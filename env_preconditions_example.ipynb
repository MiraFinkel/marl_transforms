{
 "metadata": {
  "language_info": {
   "codemirror_mode": {
    "name": "ipython",
    "version": 3
   },
   "file_extension": ".py",
   "mimetype": "text/x-python",
   "name": "python",
   "nbconvert_exporter": "python",
   "pygments_lexer": "ipython3",
   "version": "3.8.8"
  },
  "orig_nbformat": 4,
  "kernelspec": {
   "name": "python3",
   "display_name": "Python 3.8.8 64-bit"
  },
  "interpreter": {
   "hash": "eced56b84fb859a85faacdeafe0538c19ee0f037edf572e29ce02d77729403dc"
  }
 },
 "nbformat": 4,
 "nbformat_minor": 2,
 "cells": [
  {
   "cell_type": "code",
   "execution_count": 2,
   "metadata": {},
   "outputs": [],
   "source": [
    "import pandas as pd\n",
    "import numpy as np\n",
    "from Environments.SingleTaxiEnv.single_taxi_env import SingleTaxiEnv\n"
   ]
  },
  {
   "cell_type": "code",
   "execution_count": 4,
   "metadata": {},
   "outputs": [],
   "source": [
    "def calc_action_feature_sets(P, decode, num_actions):\n",
    "    # num_actions = env.num_actions\n",
    "    # decode = env.decode\n",
    "\n",
    "    # EACH INDEX IN THE LIST IS AN ACTION!\n",
    "    action_feature_sets = [set()] * num_actions\n",
    "\n",
    "    for k, v in P.items():\n",
    "        current_state = k\n",
    "        current_state_f = decode(current_state)\n",
    "        z = pd.DataFrame(v)\n",
    "        y = z.to_numpy()[0]\n",
    "        arr_2d = np.array([*y])\n",
    "        new_states_vector = arr_2d[:, 1]\n",
    "        for i, s in enumerate(new_states_vector):\n",
    "            state_f = np.array(decode(s))\n",
    "            feature_diff = current_state_f - state_f\n",
    "            action_feature_sets[i].add(tuple(feature_diff))\n",
    "\n",
    "    # remove all no-diffs(0,0,0,0,...)\n",
    "    for i in range(len(action_feature_sets)):\n",
    "        first_elem = action_feature_sets[0].pop()\n",
    "        action_feature_sets[0].add(first_elem)\n",
    "        zero_state = tuple([0] * len(first_elem))\n",
    "        try:\n",
    "            action_feature_sets[i].remove(zero_state)\n",
    "        except:\n",
    "            pass\n",
    "        return action_feature_sets\n"
   ]
  },
  {
   "cell_type": "code",
   "execution_count": 3,
   "metadata": {},
   "outputs": [],
   "source": [
    "def get_final_pred_dict_from_sets(action_feature_sets, f_names, a_names):\n",
    "    # f_names = [\"new_row\", \"new_col\", \"new_pass_idx\", \"dest_idx\", \"fuel\"]\n",
    "    # a_names = [\"SOUTH\", \"NORTH\", \"EAST\", \"WEST\", \"PICKUP\", \"DROPOFF\", \"REFUEL\"]\n",
    "    arr = np.array(list(action_feature_sets[0]))\n",
    "    num_states, num_features = arr.shape\n",
    "    pred_dict = {}\n",
    "    for action in range(len(a_names)):\n",
    "        arr = np.array(list(action_feature_sets[action]))\n",
    "        feature_dict = {}\n",
    "        for feature_index in range(num_features):\n",
    "            f_name = f_names[feature_index]\n",
    "            f_pred = np.unique(arr[:, feature_index])\n",
    "            feature_dict[f_name] = f_pred\n",
    "        pred_dict[a_names[action]] = feature_dict\n",
    "    return pred_dict"
   ]
  },
  {
   "cell_type": "code",
   "execution_count": 5,
   "metadata": {},
   "outputs": [],
   "source": [
    "env = SingleTaxiEnv()\n",
    "action_list_of_sets = calc_action_feature_sets(env.P, env.decode, env.num_actions)"
   ]
  },
  {
   "cell_type": "code",
   "execution_count": 6,
   "metadata": {},
   "outputs": [
    {
     "output_type": "execute_result",
     "data": {
      "text/plain": [
       "{'SOUTH': {'new_row': array([-1.,  0.,  1.]),\n",
       "  'new_col': array([-1.,  0.,  1.]),\n",
       "  'new_pass_idx': array([-4., -3., -2., -1.,  0.,  1.,  2.,  3.,  4.]),\n",
       "  'dest_idx': array([-1.,  0.,  3.]),\n",
       "  'fuel': array([ 0.,  1.,  2.,  3.,  4.,  5.,  6.,  7.,  8.,  9., 10., 11., 12.,\n",
       "         13., 14., 15., 16., 17., 18., 19., 20., 21., 22., 23., 24., 25.,\n",
       "         26., 27., 28., 29., 30., 31., 32., 33., 34., 35., 36., 37., 38.,\n",
       "         39., 40., 41., 42., 43., 44., 45., 46., 47., 48., 49.])},\n",
       " 'NORTH': {'new_row': array([-1.,  0.,  1.]),\n",
       "  'new_col': array([-1.,  0.,  1.]),\n",
       "  'new_pass_idx': array([-4., -3., -2., -1.,  0.,  1.,  2.,  3.,  4.]),\n",
       "  'dest_idx': array([-1.,  0.,  3.]),\n",
       "  'fuel': array([ 0.,  1.,  2.,  3.,  4.,  5.,  6.,  7.,  8.,  9., 10., 11., 12.,\n",
       "         13., 14., 15., 16., 17., 18., 19., 20., 21., 22., 23., 24., 25.,\n",
       "         26., 27., 28., 29., 30., 31., 32., 33., 34., 35., 36., 37., 38.,\n",
       "         39., 40., 41., 42., 43., 44., 45., 46., 47., 48., 49.])},\n",
       " 'EAST': {'new_row': array([-1.,  0.,  1.]),\n",
       "  'new_col': array([-1.,  0.,  1.]),\n",
       "  'new_pass_idx': array([-4., -3., -2., -1.,  0.,  1.,  2.,  3.,  4.]),\n",
       "  'dest_idx': array([-1.,  0.,  3.]),\n",
       "  'fuel': array([ 0.,  1.,  2.,  3.,  4.,  5.,  6.,  7.,  8.,  9., 10., 11., 12.,\n",
       "         13., 14., 15., 16., 17., 18., 19., 20., 21., 22., 23., 24., 25.,\n",
       "         26., 27., 28., 29., 30., 31., 32., 33., 34., 35., 36., 37., 38.,\n",
       "         39., 40., 41., 42., 43., 44., 45., 46., 47., 48., 49.])},\n",
       " 'WEST': {'new_row': array([-1.,  0.,  1.]),\n",
       "  'new_col': array([-1.,  0.,  1.]),\n",
       "  'new_pass_idx': array([-4., -3., -2., -1.,  0.,  1.,  2.,  3.,  4.]),\n",
       "  'dest_idx': array([-1.,  0.,  3.]),\n",
       "  'fuel': array([ 0.,  1.,  2.,  3.,  4.,  5.,  6.,  7.,  8.,  9., 10., 11., 12.,\n",
       "         13., 14., 15., 16., 17., 18., 19., 20., 21., 22., 23., 24., 25.,\n",
       "         26., 27., 28., 29., 30., 31., 32., 33., 34., 35., 36., 37., 38.,\n",
       "         39., 40., 41., 42., 43., 44., 45., 46., 47., 48., 49.])},\n",
       " 'PICKUP': {'new_row': array([-1.,  0.,  1.]),\n",
       "  'new_col': array([-1.,  0.,  1.]),\n",
       "  'new_pass_idx': array([-4., -3., -2., -1.,  0.,  1.,  2.,  3.,  4.]),\n",
       "  'dest_idx': array([-1.,  0.,  3.]),\n",
       "  'fuel': array([ 0.,  1.,  2.,  3.,  4.,  5.,  6.,  7.,  8.,  9., 10., 11., 12.,\n",
       "         13., 14., 15., 16., 17., 18., 19., 20., 21., 22., 23., 24., 25.,\n",
       "         26., 27., 28., 29., 30., 31., 32., 33., 34., 35., 36., 37., 38.,\n",
       "         39., 40., 41., 42., 43., 44., 45., 46., 47., 48., 49.])},\n",
       " 'DROPOFF': {'new_row': array([-1.,  0.,  1.]),\n",
       "  'new_col': array([-1.,  0.,  1.]),\n",
       "  'new_pass_idx': array([-4., -3., -2., -1.,  0.,  1.,  2.,  3.,  4.]),\n",
       "  'dest_idx': array([-1.,  0.,  3.]),\n",
       "  'fuel': array([ 0.,  1.,  2.,  3.,  4.,  5.,  6.,  7.,  8.,  9., 10., 11., 12.,\n",
       "         13., 14., 15., 16., 17., 18., 19., 20., 21., 22., 23., 24., 25.,\n",
       "         26., 27., 28., 29., 30., 31., 32., 33., 34., 35., 36., 37., 38.,\n",
       "         39., 40., 41., 42., 43., 44., 45., 46., 47., 48., 49.])},\n",
       " 'REFUEL': {'new_row': array([-1.,  0.,  1.]),\n",
       "  'new_col': array([-1.,  0.,  1.]),\n",
       "  'new_pass_idx': array([-4., -3., -2., -1.,  0.,  1.,  2.,  3.,  4.]),\n",
       "  'dest_idx': array([-1.,  0.,  3.]),\n",
       "  'fuel': array([ 0.,  1.,  2.,  3.,  4.,  5.,  6.,  7.,  8.,  9., 10., 11., 12.,\n",
       "         13., 14., 15., 16., 17., 18., 19., 20., 21., 22., 23., 24., 25.,\n",
       "         26., 27., 28., 29., 30., 31., 32., 33., 34., 35., 36., 37., 38.,\n",
       "         39., 40., 41., 42., 43., 44., 45., 46., 47., 48., 49.])}}"
      ]
     },
     "metadata": {},
     "execution_count": 6
    }
   ],
   "source": [
    "f_names = [\"new_row\", \"new_col\", \"new_pass_idx\", \"dest_idx\", \"fuel\"]\n",
    "a_names = [\"SOUTH\", \"NORTH\", \"EAST\", \"WEST\", \"PICKUP\", \"DROPOFF\", \"REFUEL\"]\n",
    "get_final_pred_dict_from_sets(action_list_of_sets,f_names, a_names )"
   ]
  },
  {
   "cell_type": "code",
   "execution_count": null,
   "metadata": {},
   "outputs": [],
   "source": []
  }
 ]
}